{
 "cells": [
  {
   "cell_type": "markdown",
   "metadata": {},
   "source": [
    "# Why python for data analysis, machine learning?\n",
    "There are lots of reasons that we want to use python for doing data science. It is certainly one of the younger programming languages used in the data science ecosystem (compared to say R and SAS) but it is used just as frequently for analysis as SAS and R. Having a good foundation in python and R, (and SAS or SPSS) should be a *must* for **every data scientist** and machine learning enthusiast. \n",
    "\n",
    "In this course, python allows for an open source method of performing machine learning that runs from just about any machine. So let's start with looking at Numpy and Pandas pachages for analyzing data. \n",
    "\n",
    "With that in mind, let's go over the following:\n",
    "- Numpy matrices\n",
    "- Simple operations on arrays and matrices\n",
    "- Indexing with numpy\n",
    "- Pandas for tabular data\n",
    "- Representing categorical data (discussion point)"
   ]
  },
  {
   "cell_type": "code",
<<<<<<< HEAD
   "execution_count": 2,
=======
   "execution_count": 1,
>>>>>>> f27a3dbf96c9157008002b7a2560b3194c1261ba
   "metadata": {},
   "outputs": [
    {
     "name": "stdout",
     "output_type": "stream",
     "text": [
<<<<<<< HEAD
      "3.7.7 (default, Mar 26 2020, 10:32:53) \n",
      "[Clang 4.0.1 (tags/RELEASE_401/final)]\n",
      "1.21.5\n"
=======
      "3.9.7 (default, Sep 16 2021, 16:59:28) [MSC v.1916 64 bit (AMD64)]\n",
      "1.20.3\n"
>>>>>>> f27a3dbf96c9157008002b7a2560b3194c1261ba
     ]
    }
   ],
   "source": [
    "import sys\n",
    "import numpy as np\n",
    "\n",
    "print(sys.version)\n",
    "print(np.__version__)"
   ]
  },
  {
   "cell_type": "code",
<<<<<<< HEAD
   "execution_count": 3,
=======
   "execution_count": 2,
>>>>>>> f27a3dbf96c9157008002b7a2560b3194c1261ba
   "metadata": {},
   "outputs": [
    {
     "data": {
      "text/plain": [
<<<<<<< HEAD
       "array([[0.13390854, 0.02967377, 0.17513173],\n",
       "       [0.32329516, 0.21006327, 0.12983707],\n",
       "       [0.41018965, 0.35287795, 0.13275986],\n",
       "       [0.73571718, 0.56157446, 0.96891009],\n",
       "       [0.82430065, 0.44226791, 0.81989967]])"
      ]
     },
     "execution_count": 3,
=======
       "array([[0.87863441, 0.78331119, 0.6186509 ],\n",
       "       [0.59426703, 0.6016146 , 0.80505423],\n",
       "       [0.49038633, 0.8889456 , 0.4963617 ],\n",
       "       [0.18962321, 0.37103697, 0.56821692],\n",
       "       [0.14830413, 0.29774338, 0.04841899]])"
      ]
     },
     "execution_count": 2,
>>>>>>> f27a3dbf96c9157008002b7a2560b3194c1261ba
     "metadata": {},
     "output_type": "execute_result"
    }
   ],
   "source": [
    "x = np.random.rand(5,3)\n",
    "x"
   ]
  },
  {
   "cell_type": "code",
<<<<<<< HEAD
   "execution_count": 4,
=======
   "execution_count": 3,
>>>>>>> f27a3dbf96c9157008002b7a2560b3194c1261ba
   "metadata": {},
   "outputs": [
    {
     "data": {
      "text/plain": [
       "(5, 3)"
      ]
     },
<<<<<<< HEAD
     "execution_count": 4,
=======
     "execution_count": 3,
>>>>>>> f27a3dbf96c9157008002b7a2560b3194c1261ba
     "metadata": {},
     "output_type": "execute_result"
    }
   ],
   "source": [
    "x.shape"
   ]
  },
  {
   "cell_type": "code",
<<<<<<< HEAD
   "execution_count": 5,
=======
   "execution_count": 4,
>>>>>>> f27a3dbf96c9157008002b7a2560b3194c1261ba
   "metadata": {},
   "outputs": [
    {
     "data": {
      "text/plain": [
       "dtype('float64')"
      ]
     },
<<<<<<< HEAD
     "execution_count": 5,
=======
     "execution_count": 4,
>>>>>>> f27a3dbf96c9157008002b7a2560b3194c1261ba
     "metadata": {},
     "output_type": "execute_result"
    }
   ],
   "source": [
    "x.dtype"
   ]
  },
  {
   "cell_type": "code",
<<<<<<< HEAD
   "execution_count": 6,
=======
   "execution_count": 5,
>>>>>>> f27a3dbf96c9157008002b7a2560b3194c1261ba
   "metadata": {},
   "outputs": [
    {
     "ename": "ValueError",
     "evalue": "operands could not be broadcast together with shapes (5,3) (3,4) ",
     "output_type": "error",
     "traceback": [
<<<<<<< HEAD
      "\u001b[0;31m---------------------------------------------------------------------------\u001b[0m",
      "\u001b[0;31mValueError\u001b[0m                                Traceback (most recent call last)",
      "\u001b[0;32m/var/folders/td/w_hszl_j1cj49sh8g524zmbw0000gn/T/ipykernel_4865/1887801275.py\u001b[0m in \u001b[0;36m<module>\u001b[0;34m\u001b[0m\n\u001b[1;32m      1\u001b[0m \u001b[0;31m# will this work?\u001b[0m\u001b[0;34m\u001b[0m\u001b[0;34m\u001b[0m\u001b[0;34m\u001b[0m\u001b[0m\n\u001b[1;32m      2\u001b[0m \u001b[0my\u001b[0m \u001b[0;34m=\u001b[0m \u001b[0mnp\u001b[0m\u001b[0;34m.\u001b[0m\u001b[0mrandom\u001b[0m\u001b[0;34m.\u001b[0m\u001b[0mrand\u001b[0m\u001b[0;34m(\u001b[0m\u001b[0;36m3\u001b[0m\u001b[0;34m,\u001b[0m\u001b[0;36m4\u001b[0m\u001b[0;34m)\u001b[0m\u001b[0;34m\u001b[0m\u001b[0;34m\u001b[0m\u001b[0m\n\u001b[0;32m----> 3\u001b[0;31m \u001b[0mz\u001b[0m \u001b[0;34m=\u001b[0m \u001b[0mx\u001b[0m\u001b[0;34m*\u001b[0m\u001b[0my\u001b[0m\u001b[0;34m\u001b[0m\u001b[0;34m\u001b[0m\u001b[0m\n\u001b[0m\u001b[1;32m      4\u001b[0m \u001b[0mz\u001b[0m\u001b[0;34m\u001b[0m\u001b[0;34m\u001b[0m\u001b[0m\n",
      "\u001b[0;31mValueError\u001b[0m: operands could not be broadcast together with shapes (5,3) (3,4) "
=======
      "\u001b[1;31m---------------------------------------------------------------------------\u001b[0m",
      "\u001b[1;31mValueError\u001b[0m                                Traceback (most recent call last)",
      "\u001b[1;32m~\\AppData\\Local\\Temp/ipykernel_1812/1887801275.py\u001b[0m in \u001b[0;36m<module>\u001b[1;34m\u001b[0m\n\u001b[0;32m      1\u001b[0m \u001b[1;31m# will this work?\u001b[0m\u001b[1;33m\u001b[0m\u001b[1;33m\u001b[0m\u001b[0m\n\u001b[0;32m      2\u001b[0m \u001b[0my\u001b[0m \u001b[1;33m=\u001b[0m \u001b[0mnp\u001b[0m\u001b[1;33m.\u001b[0m\u001b[0mrandom\u001b[0m\u001b[1;33m.\u001b[0m\u001b[0mrand\u001b[0m\u001b[1;33m(\u001b[0m\u001b[1;36m3\u001b[0m\u001b[1;33m,\u001b[0m\u001b[1;36m4\u001b[0m\u001b[1;33m)\u001b[0m\u001b[1;33m\u001b[0m\u001b[1;33m\u001b[0m\u001b[0m\n\u001b[1;32m----> 3\u001b[1;33m \u001b[0mz\u001b[0m \u001b[1;33m=\u001b[0m \u001b[0mx\u001b[0m\u001b[1;33m*\u001b[0m\u001b[0my\u001b[0m\u001b[1;33m\u001b[0m\u001b[1;33m\u001b[0m\u001b[0m\n\u001b[0m\u001b[0;32m      4\u001b[0m \u001b[0mz\u001b[0m\u001b[1;33m\u001b[0m\u001b[1;33m\u001b[0m\u001b[0m\n",
      "\u001b[1;31mValueError\u001b[0m: operands could not be broadcast together with shapes (5,3) (3,4) "
>>>>>>> f27a3dbf96c9157008002b7a2560b3194c1261ba
     ]
    }
   ],
   "source": [
    "# will this work?\n",
    "y = np.random.rand(3,4)\n",
    "z = x*y\n",
    "z"
   ]
  },
  {
   "cell_type": "code",
   "execution_count": 7,
   "metadata": {},
   "outputs": [
    {
     "data": {
      "text/plain": [
<<<<<<< HEAD
       "array([[0.21469375, 0.18861389, 0.10064789, 0.14633925],\n",
       "       [0.34282908, 0.49417645, 0.2651536 , 0.34697599],\n",
       "       [0.44523524, 0.68185618, 0.36796105, 0.45785517],\n",
       "       [1.3494303 , 1.32080192, 0.71666438, 0.90739807],\n",
       "       [1.22376937, 1.29303368, 0.69534102, 0.93061478]])"
=======
       "array([[1.11659734, 0.62599526, 0.66802419, 0.80348237],\n",
       "       [1.10612416, 0.55816319, 0.49950583, 0.66027405],\n",
       "       [0.93820819, 0.57681172, 0.44945996, 0.54467592],\n",
       "       [0.68642334, 0.33663422, 0.2143774 , 0.31924087],\n",
       "       [0.21150515, 0.15870856, 0.12992588, 0.1396975 ]])"
>>>>>>> f27a3dbf96c9157008002b7a2560b3194c1261ba
      ]
     },
     "execution_count": 7,
     "metadata": {},
     "output_type": "execute_result"
    }
   ],
   "source": [
    "# we can designate what matrix multiplication is directly using objects\n",
    "z = np.dot(x,y)\n",
    "z"
   ]
  },
  {
   "cell_type": "code",
   "execution_count": 8,
   "metadata": {},
   "outputs": [
    {
     "data": {
      "text/plain": [
<<<<<<< HEAD
       "array([[0.21469375, 0.18861389, 0.10064789, 0.14633925],\n",
       "       [0.34282908, 0.49417645, 0.2651536 , 0.34697599],\n",
       "       [0.44523524, 0.68185618, 0.36796105, 0.45785517],\n",
       "       [1.3494303 , 1.32080192, 0.71666438, 0.90739807],\n",
       "       [1.22376937, 1.29303368, 0.69534102, 0.93061478]])"
=======
       "array([[1.11659734, 0.62599526, 0.66802419, 0.80348237],\n",
       "       [1.10612416, 0.55816319, 0.49950583, 0.66027405],\n",
       "       [0.93820819, 0.57681172, 0.44945996, 0.54467592],\n",
       "       [0.68642334, 0.33663422, 0.2143774 , 0.31924087],\n",
       "       [0.21150515, 0.15870856, 0.12992588, 0.1396975 ]])"
>>>>>>> f27a3dbf96c9157008002b7a2560b3194c1261ba
      ]
     },
     "execution_count": 8,
     "metadata": {},
     "output_type": "execute_result"
    }
   ],
   "source": [
    "# or we can use the overloaded matrix multiplication operator\n",
    "z = x @ y\n",
    "z"
   ]
  },
  {
   "cell_type": "markdown",
   "metadata": {},
   "source": [
    "# Indexing"
   ]
  },
  {
   "cell_type": "code",
   "execution_count": 9,
   "metadata": {},
   "outputs": [
    {
     "data": {
      "text/plain": [
       "array([[1, 2, 3],\n",
       "       [4, 5, 6],\n",
       "       [7, 8, 9]])"
      ]
     },
     "execution_count": 9,
     "metadata": {},
     "output_type": "execute_result"
    }
   ],
   "source": [
    "x1 = np.array([[1,2,3],\n",
    "               [4,5,6],\n",
    "               [7,8,9]])\n",
    "x1"
   ]
  },
  {
   "cell_type": "code",
   "execution_count": 10,
   "metadata": {},
   "outputs": [
    {
     "name": "stdout",
     "output_type": "stream",
     "text": [
      "2\n",
      "5\n",
      "8\n"
     ]
    }
   ],
   "source": [
    "for row in range(x1.shape[0]):\n",
    "    print(x1[row,1])"
   ]
  },
  {
   "cell_type": "code",
<<<<<<< HEAD
   "execution_count": 11,
=======
   "execution_count": 16,
>>>>>>> f27a3dbf96c9157008002b7a2560b3194c1261ba
   "metadata": {},
   "outputs": [
    {
     "name": "stdout",
     "output_type": "stream",
     "text": [
      "[2 5 8]\n",
      "[False  True  True]\n",
      "[[4 5 6]\n",
      " [7 8 9]]\n"
     ]
    }
   ],
   "source": [
    "print(x1[:,1])\n",
    "print(x1[:,1]>3)\n",
    "# slicing\n",
    "print(x1[ x1[:,1]!=2 ])"
   ]
  },
  {
   "cell_type": "code",
<<<<<<< HEAD
   "execution_count": 12,
=======
   "execution_count": 17,
>>>>>>> f27a3dbf96c9157008002b7a2560b3194c1261ba
   "metadata": {
    "scrolled": false
   },
   "outputs": [
    {
     "name": "stdout",
     "output_type": "stream",
     "text": [
      "[0 1 2 3 4 5 6 7 8 9]\n"
     ]
    },
    {
     "data": {
      "text/plain": [
       "(10,)"
      ]
     },
<<<<<<< HEAD
     "execution_count": 12,
=======
     "execution_count": 17,
>>>>>>> f27a3dbf96c9157008002b7a2560b3194c1261ba
     "metadata": {},
     "output_type": "execute_result"
    }
   ],
   "source": [
    "x2 = np.array(range(10))\n",
    "print(x2)\n",
    "x2.shape"
   ]
  },
  {
   "cell_type": "code",
<<<<<<< HEAD
   "execution_count": 13,
=======
   "execution_count": 18,
>>>>>>> f27a3dbf96c9157008002b7a2560b3194c1261ba
   "metadata": {},
   "outputs": [
    {
     "name": "stdout",
     "output_type": "stream",
     "text": [
      "[False False False False False False  True  True  True  True]\n",
      "[6 7 8 9]\n"
     ]
    }
   ],
   "source": [
    "idx = x2>5\n",
    "print(idx)\n",
    "print(x2[idx])"
   ]
  },
  {
   "cell_type": "code",
<<<<<<< HEAD
   "execution_count": 14,
=======
   "execution_count": 19,
>>>>>>> f27a3dbf96c9157008002b7a2560b3194c1261ba
   "metadata": {},
   "outputs": [
    {
     "data": {
      "text/plain": [
       "array([6, 7, 8, 9])"
      ]
     },
<<<<<<< HEAD
     "execution_count": 14,
=======
     "execution_count": 19,
>>>>>>> f27a3dbf96c9157008002b7a2560b3194c1261ba
     "metadata": {},
     "output_type": "execute_result"
    }
   ],
   "source": [
    "x2[x2>5] # rows of x2 where x2 is greater than 5"
   ]
  },
  {
   "cell_type": "markdown",
   "metadata": {},
   "source": [
    "# Named columns\n",
    "So what if we have a matrix of data where each row is some observation of features and the feature values are represented in each column?"
   ]
  },
  {
   "cell_type": "code",
<<<<<<< HEAD
   "execution_count": 15,
=======
   "execution_count": 20,
>>>>>>> f27a3dbf96c9157008002b7a2560b3194c1261ba
   "metadata": {},
   "outputs": [
    {
     "data": {
      "text/plain": [
       "array([[  64, 2100,    1],\n",
       "       [  50, 2200,    4],\n",
       "       [  48, 2300,    3],\n",
       "       [  34,    0,    2],\n",
       "       [  30,  100,    5]])"
      ]
     },
<<<<<<< HEAD
     "execution_count": 15,
=======
     "execution_count": 20,
>>>>>>> f27a3dbf96c9157008002b7a2560b3194c1261ba
     "metadata": {},
     "output_type": "execute_result"
    }
   ],
   "source": [
    "col_names = ['temperature','time','day']\n",
    "data = np.array([[64,2100,1],\n",
    "                 [50,2200,4],\n",
    "                 [48,2300,3],\n",
    "                 [34,0,   2],\n",
    "                 [30,100, 5]])\n",
    "data"
   ]
  },
  {
   "cell_type": "code",
<<<<<<< HEAD
   "execution_count": 16,
=======
   "execution_count": 21,
>>>>>>> f27a3dbf96c9157008002b7a2560b3194c1261ba
   "metadata": {},
   "outputs": [
    {
     "data": {
      "text/plain": [
       "array([[  64, 2100,    1],\n",
       "       [  50, 2200,    4],\n",
       "       [  48, 2300,    3]])"
      ]
     },
<<<<<<< HEAD
     "execution_count": 16,
=======
     "execution_count": 21,
>>>>>>> f27a3dbf96c9157008002b7a2560b3194c1261ba
     "metadata": {},
     "output_type": "execute_result"
    }
   ],
   "source": [
    "data2 = data[data[:,1]>1500]\n",
    "data2"
   ]
  },
  {
   "cell_type": "code",
<<<<<<< HEAD
   "execution_count": 57,
   "metadata": {},
   "outputs": [
    {
     "name": "stdout",
     "output_type": "stream",
     "text": [
      "1.3.5\n"
     ]
    },
    {
=======
   "execution_count": 22,
   "metadata": {},
   "outputs": [
    {
>>>>>>> f27a3dbf96c9157008002b7a2560b3194c1261ba
     "data": {
      "text/html": [
       "<div>\n",
       "<style scoped>\n",
       "    .dataframe tbody tr th:only-of-type {\n",
       "        vertical-align: middle;\n",
       "    }\n",
       "\n",
       "    .dataframe tbody tr th {\n",
       "        vertical-align: top;\n",
       "    }\n",
       "\n",
       "    .dataframe thead th {\n",
       "        text-align: right;\n",
       "    }\n",
       "</style>\n",
       "<table border=\"1\" class=\"dataframe\">\n",
       "  <thead>\n",
       "    <tr style=\"text-align: right;\">\n",
       "      <th></th>\n",
       "      <th>temperature</th>\n",
       "      <th>time</th>\n",
       "      <th>day</th>\n",
       "    </tr>\n",
       "  </thead>\n",
       "  <tbody>\n",
       "    <tr>\n",
       "      <th>0</th>\n",
       "      <td>64</td>\n",
       "      <td>2100</td>\n",
       "      <td>1</td>\n",
       "    </tr>\n",
       "    <tr>\n",
       "      <th>1</th>\n",
       "      <td>50</td>\n",
       "      <td>2200</td>\n",
       "      <td>4</td>\n",
       "    </tr>\n",
       "    <tr>\n",
       "      <th>2</th>\n",
       "      <td>48</td>\n",
       "      <td>2300</td>\n",
       "      <td>3</td>\n",
       "    </tr>\n",
       "    <tr>\n",
       "      <th>3</th>\n",
       "      <td>34</td>\n",
       "      <td>0</td>\n",
       "      <td>2</td>\n",
       "    </tr>\n",
       "    <tr>\n",
       "      <th>4</th>\n",
       "      <td>30</td>\n",
       "      <td>100</td>\n",
       "      <td>5</td>\n",
       "    </tr>\n",
       "  </tbody>\n",
       "</table>\n",
       "</div>"
      ],
      "text/plain": [
       "   temperature  time  day\n",
       "0           64  2100    1\n",
       "1           50  2200    4\n",
       "2           48  2300    3\n",
       "3           34     0    2\n",
       "4           30   100    5"
      ]
     },
<<<<<<< HEAD
     "execution_count": 57,
=======
     "execution_count": 22,
>>>>>>> f27a3dbf96c9157008002b7a2560b3194c1261ba
     "metadata": {},
     "output_type": "execute_result"
    }
   ],
   "source": [
    "# pandas to the rescue\n",
    "import pandas as pd\n",
    "print(pd.__version__)\n",
    "\n",
    "df = pd.DataFrame(data,columns=col_names)\n",
    "df"
   ]
  },
  {
   "cell_type": "code",
<<<<<<< HEAD
   "execution_count": 18,
=======
   "execution_count": 23,
>>>>>>> f27a3dbf96c9157008002b7a2560b3194c1261ba
   "metadata": {},
   "outputs": [
    {
     "name": "stdout",
     "output_type": "stream",
     "text": [
      "<class 'numpy.ndarray'>\n"
     ]
    },
    {
     "data": {
      "text/plain": [
       "array([[  64, 2100,    1],\n",
       "       [  50, 2200,    4],\n",
       "       [  48, 2300,    3],\n",
       "       [  34,    0,    2],\n",
       "       [  30,  100,    5]])"
      ]
     },
<<<<<<< HEAD
     "execution_count": 18,
=======
     "execution_count": 23,
>>>>>>> f27a3dbf96c9157008002b7a2560b3194c1261ba
     "metadata": {},
     "output_type": "execute_result"
    }
   ],
   "source": [
    "# can always access the backend numpy with .values\n",
    "print(type(df.to_numpy()))\n",
    "df.to_numpy()"
   ]
  },
  {
   "cell_type": "code",
<<<<<<< HEAD
   "execution_count": 19,
=======
   "execution_count": 24,
>>>>>>> f27a3dbf96c9157008002b7a2560b3194c1261ba
   "metadata": {},
   "outputs": [
    {
     "data": {
      "text/html": [
       "<div>\n",
       "<style scoped>\n",
       "    .dataframe tbody tr th:only-of-type {\n",
       "        vertical-align: middle;\n",
       "    }\n",
       "\n",
       "    .dataframe tbody tr th {\n",
       "        vertical-align: top;\n",
       "    }\n",
       "\n",
       "    .dataframe thead th {\n",
       "        text-align: right;\n",
       "    }\n",
       "</style>\n",
       "<table border=\"1\" class=\"dataframe\">\n",
       "  <thead>\n",
       "    <tr style=\"text-align: right;\">\n",
       "      <th></th>\n",
       "      <th>temperature</th>\n",
       "      <th>time</th>\n",
       "      <th>day</th>\n",
       "    </tr>\n",
       "  </thead>\n",
       "  <tbody>\n",
       "    <tr>\n",
       "      <th>0</th>\n",
       "      <td>64</td>\n",
       "      <td>2100</td>\n",
       "      <td>1</td>\n",
       "    </tr>\n",
       "    <tr>\n",
       "      <th>1</th>\n",
       "      <td>50</td>\n",
       "      <td>2200</td>\n",
       "      <td>4</td>\n",
       "    </tr>\n",
       "    <tr>\n",
       "      <th>2</th>\n",
       "      <td>48</td>\n",
       "      <td>2300</td>\n",
       "      <td>3</td>\n",
       "    </tr>\n",
       "  </tbody>\n",
       "</table>\n",
       "</div>"
      ],
      "text/plain": [
       "   temperature  time  day\n",
       "0           64  2100    1\n",
       "1           50  2200    4\n",
       "2           48  2300    3"
      ]
     },
<<<<<<< HEAD
     "execution_count": 19,
=======
     "execution_count": 24,
>>>>>>> f27a3dbf96c9157008002b7a2560b3194c1261ba
     "metadata": {},
     "output_type": "execute_result"
    }
   ],
   "source": [
    "df[df.time>1500]"
   ]
  },
  {
   "cell_type": "code",
<<<<<<< HEAD
   "execution_count": 20,
=======
   "execution_count": 25,
>>>>>>> f27a3dbf96c9157008002b7a2560b3194c1261ba
   "metadata": {},
   "outputs": [
    {
     "name": "stdout",
     "output_type": "stream",
     "text": [
      "<class 'pandas.core.frame.DataFrame'>\n",
      "RangeIndex: 5 entries, 0 to 4\n",
      "Data columns (total 3 columns):\n",
      " #   Column       Non-Null Count  Dtype\n",
      "---  ------       --------------  -----\n",
<<<<<<< HEAD
      " 0   temperature  5 non-null      int64\n",
      " 1   time         5 non-null      int64\n",
      " 2   day          5 non-null      int64\n",
      "dtypes: int64(3)\n",
      "memory usage: 248.0 bytes\n"
=======
      " 0   temperature  5 non-null      int32\n",
      " 1   time         5 non-null      int32\n",
      " 2   day          5 non-null      int32\n",
      "dtypes: int32(3)\n",
      "memory usage: 188.0 bytes\n"
>>>>>>> f27a3dbf96c9157008002b7a2560b3194c1261ba
     ]
    }
   ],
   "source": [
    "# lets get a description of the data\n",
    "df.info()"
   ]
  },
  {
   "cell_type": "code",
<<<<<<< HEAD
   "execution_count": 21,
=======
   "execution_count": 26,
>>>>>>> f27a3dbf96c9157008002b7a2560b3194c1261ba
   "metadata": {},
   "outputs": [
    {
     "data": {
      "text/html": [
       "<div>\n",
       "<style scoped>\n",
       "    .dataframe tbody tr th:only-of-type {\n",
       "        vertical-align: middle;\n",
       "    }\n",
       "\n",
       "    .dataframe tbody tr th {\n",
       "        vertical-align: top;\n",
       "    }\n",
       "\n",
       "    .dataframe thead th {\n",
       "        text-align: right;\n",
       "    }\n",
       "</style>\n",
       "<table border=\"1\" class=\"dataframe\">\n",
       "  <thead>\n",
       "    <tr style=\"text-align: right;\">\n",
       "      <th></th>\n",
       "      <th>temperature</th>\n",
       "      <th>time</th>\n",
       "      <th>day</th>\n",
       "    </tr>\n",
       "  </thead>\n",
       "  <tbody>\n",
       "    <tr>\n",
       "      <th>0</th>\n",
       "      <td>64</td>\n",
       "      <td>2100</td>\n",
       "      <td>Mon</td>\n",
       "    </tr>\n",
       "    <tr>\n",
       "      <th>1</th>\n",
       "      <td>50</td>\n",
       "      <td>2200</td>\n",
       "      <td>4</td>\n",
       "    </tr>\n",
       "    <tr>\n",
       "      <th>2</th>\n",
       "      <td>48</td>\n",
       "      <td>2300</td>\n",
       "      <td>3</td>\n",
       "    </tr>\n",
       "    <tr>\n",
       "      <th>3</th>\n",
       "      <td>34</td>\n",
       "      <td>0</td>\n",
       "      <td>2</td>\n",
       "    </tr>\n",
       "    <tr>\n",
       "      <th>4</th>\n",
       "      <td>30</td>\n",
       "      <td>100</td>\n",
       "      <td>5</td>\n",
       "    </tr>\n",
       "  </tbody>\n",
       "</table>\n",
       "</div>"
      ],
      "text/plain": [
       "   temperature  time  day\n",
       "0           64  2100  Mon\n",
       "1           50  2200    4\n",
       "2           48  2300    3\n",
       "3           34     0    2\n",
       "4           30   100    5"
      ]
     },
<<<<<<< HEAD
     "execution_count": 21,
=======
     "execution_count": 26,
>>>>>>> f27a3dbf96c9157008002b7a2560b3194c1261ba
     "metadata": {},
     "output_type": "execute_result"
    }
   ],
   "source": [
    "df.day[df.day==1] = 'Mon'\n",
    "df"
   ]
  },
  {
   "cell_type": "code",
<<<<<<< HEAD
   "execution_count": 22,
=======
   "execution_count": 27,
>>>>>>> f27a3dbf96c9157008002b7a2560b3194c1261ba
   "metadata": {},
   "outputs": [
    {
     "data": {
      "text/html": [
       "<div>\n",
       "<style scoped>\n",
       "    .dataframe tbody tr th:only-of-type {\n",
       "        vertical-align: middle;\n",
       "    }\n",
       "\n",
       "    .dataframe tbody tr th {\n",
       "        vertical-align: top;\n",
       "    }\n",
       "\n",
       "    .dataframe thead th {\n",
       "        text-align: right;\n",
       "    }\n",
       "</style>\n",
       "<table border=\"1\" class=\"dataframe\">\n",
       "  <thead>\n",
       "    <tr style=\"text-align: right;\">\n",
       "      <th></th>\n",
       "      <th>temperature</th>\n",
       "      <th>time</th>\n",
       "      <th>day</th>\n",
       "    </tr>\n",
       "  </thead>\n",
       "  <tbody>\n",
       "    <tr>\n",
       "      <th>0</th>\n",
       "      <td>64</td>\n",
       "      <td>2100</td>\n",
       "      <td>Mon</td>\n",
       "    </tr>\n",
       "    <tr>\n",
       "      <th>1</th>\n",
       "      <td>50</td>\n",
       "      <td>2200</td>\n",
       "      <td>Th</td>\n",
       "    </tr>\n",
       "    <tr>\n",
       "      <th>2</th>\n",
       "      <td>48</td>\n",
       "      <td>2300</td>\n",
       "      <td>Wed</td>\n",
       "    </tr>\n",
       "    <tr>\n",
       "      <th>3</th>\n",
       "      <td>34</td>\n",
       "      <td>0</td>\n",
       "      <td>Tues</td>\n",
       "    </tr>\n",
       "    <tr>\n",
       "      <th>4</th>\n",
       "      <td>30</td>\n",
       "      <td>100</td>\n",
       "      <td>Fri</td>\n",
       "    </tr>\n",
       "  </tbody>\n",
       "</table>\n",
       "</div>"
      ],
      "text/plain": [
       "   temperature  time   day\n",
       "0           64  2100   Mon\n",
       "1           50  2200    Th\n",
       "2           48  2300   Wed\n",
       "3           34     0  Tues\n",
       "4           30   100   Fri"
      ]
     },
<<<<<<< HEAD
     "execution_count": 22,
=======
     "execution_count": 27,
>>>>>>> f27a3dbf96c9157008002b7a2560b3194c1261ba
     "metadata": {},
     "output_type": "execute_result"
    }
   ],
   "source": [
    "# there is almost always a more efficient built in pandas function\n",
    "df.day.replace(to_replace=range(7),\n",
    "               value=['Su','Mon','Tues','Wed','Th','Fri','Sat'],\n",
    "               inplace=True)\n",
    "df"
   ]
  },
  {
   "cell_type": "code",
<<<<<<< HEAD
   "execution_count": 23,
=======
   "execution_count": 28,
>>>>>>> f27a3dbf96c9157008002b7a2560b3194c1261ba
   "metadata": {},
   "outputs": [
    {
     "name": "stdout",
     "output_type": "stream",
     "text": [
      "<class 'pandas.core.frame.DataFrame'>\n",
      "RangeIndex: 5 entries, 0 to 4\n",
      "Data columns (total 3 columns):\n",
      " #   Column       Non-Null Count  Dtype \n",
      "---  ------       --------------  ----- \n",
<<<<<<< HEAD
      " 0   temperature  5 non-null      int64 \n",
      " 1   time         5 non-null      int64 \n",
      " 2   day          5 non-null      object\n",
      "dtypes: int64(2), object(1)\n",
      "memory usage: 248.0+ bytes\n"
=======
      " 0   temperature  5 non-null      int32 \n",
      " 1   time         5 non-null      int32 \n",
      " 2   day          5 non-null      object\n",
      "dtypes: int32(2), object(1)\n",
      "memory usage: 208.0+ bytes\n"
>>>>>>> f27a3dbf96c9157008002b7a2560b3194c1261ba
     ]
    }
   ],
   "source": [
    "# notice how the type of the column has changed to an object \"categorical\"\n",
    "df.info()"
   ]
  },
  {
   "cell_type": "code",
<<<<<<< HEAD
   "execution_count": 24,
=======
   "execution_count": 29,
>>>>>>> f27a3dbf96c9157008002b7a2560b3194c1261ba
   "metadata": {},
   "outputs": [
    {
     "data": {
      "text/html": [
       "<div>\n",
       "<style scoped>\n",
       "    .dataframe tbody tr th:only-of-type {\n",
       "        vertical-align: middle;\n",
       "    }\n",
       "\n",
       "    .dataframe tbody tr th {\n",
       "        vertical-align: top;\n",
       "    }\n",
       "\n",
       "    .dataframe thead th {\n",
       "        text-align: right;\n",
       "    }\n",
       "</style>\n",
       "<table border=\"1\" class=\"dataframe\">\n",
       "  <thead>\n",
       "    <tr style=\"text-align: right;\">\n",
       "      <th></th>\n",
       "      <th>Fri</th>\n",
       "      <th>Mon</th>\n",
       "      <th>Th</th>\n",
       "      <th>Tues</th>\n",
       "      <th>Wed</th>\n",
       "    </tr>\n",
       "  </thead>\n",
       "  <tbody>\n",
       "    <tr>\n",
       "      <th>0</th>\n",
       "      <td>0</td>\n",
       "      <td>1</td>\n",
       "      <td>0</td>\n",
       "      <td>0</td>\n",
       "      <td>0</td>\n",
       "    </tr>\n",
       "    <tr>\n",
       "      <th>1</th>\n",
       "      <td>0</td>\n",
       "      <td>0</td>\n",
       "      <td>1</td>\n",
       "      <td>0</td>\n",
       "      <td>0</td>\n",
       "    </tr>\n",
       "    <tr>\n",
       "      <th>2</th>\n",
       "      <td>0</td>\n",
       "      <td>0</td>\n",
       "      <td>0</td>\n",
       "      <td>0</td>\n",
       "      <td>1</td>\n",
       "    </tr>\n",
       "    <tr>\n",
       "      <th>3</th>\n",
       "      <td>0</td>\n",
       "      <td>0</td>\n",
       "      <td>0</td>\n",
       "      <td>1</td>\n",
       "      <td>0</td>\n",
       "    </tr>\n",
       "    <tr>\n",
       "      <th>4</th>\n",
       "      <td>1</td>\n",
       "      <td>0</td>\n",
       "      <td>0</td>\n",
       "      <td>0</td>\n",
       "      <td>0</td>\n",
       "    </tr>\n",
       "  </tbody>\n",
       "</table>\n",
       "</div>"
      ],
      "text/plain": [
       "   Fri  Mon  Th  Tues  Wed\n",
       "0    0    1   0     0    0\n",
       "1    0    0   1     0    0\n",
       "2    0    0   0     0    1\n",
       "3    0    0   0     1    0\n",
       "4    1    0   0     0    0"
      ]
     },
<<<<<<< HEAD
     "execution_count": 24,
=======
     "execution_count": 29,
>>>>>>> f27a3dbf96c9157008002b7a2560b3194c1261ba
     "metadata": {},
     "output_type": "execute_result"
    }
   ],
   "source": [
    "# one hot encoding example\n",
    "pd.get_dummies(df.day)"
   ]
  },
  {
   "cell_type": "markdown",
   "metadata": {},
   "source": [
    "# Some Pandas Syntax"
   ]
  },
  {
   "cell_type": "code",
<<<<<<< HEAD
   "execution_count": 25,
=======
   "execution_count": 30,
>>>>>>> f27a3dbf96c9157008002b7a2560b3194c1261ba
   "metadata": {},
   "outputs": [
    {
     "name": "stdout",
     "output_type": "stream",
     "text": [
      "0     Mon\n",
      "1      Th\n",
      "2     Wed\n",
      "3    Tues\n",
      "4     Fri\n",
      "Name: day, dtype: object\n",
      "0     Mon\n",
      "1      Th\n",
      "2     Wed\n",
      "3    Tues\n",
      "4     Fri\n",
      "Name: day, dtype: object\n"
     ]
    },
    {
     "data": {
      "text/html": [
       "<div>\n",
       "<style scoped>\n",
       "    .dataframe tbody tr th:only-of-type {\n",
       "        vertical-align: middle;\n",
       "    }\n",
       "\n",
       "    .dataframe tbody tr th {\n",
       "        vertical-align: top;\n",
       "    }\n",
       "\n",
       "    .dataframe thead th {\n",
       "        text-align: right;\n",
       "    }\n",
       "</style>\n",
       "<table border=\"1\" class=\"dataframe\">\n",
       "  <thead>\n",
       "    <tr style=\"text-align: right;\">\n",
       "      <th></th>\n",
       "      <th>day</th>\n",
       "      <th>temperature</th>\n",
       "    </tr>\n",
       "  </thead>\n",
       "  <tbody>\n",
       "    <tr>\n",
       "      <th>0</th>\n",
       "      <td>Mon</td>\n",
       "      <td>64</td>\n",
       "    </tr>\n",
       "    <tr>\n",
       "      <th>1</th>\n",
       "      <td>Th</td>\n",
       "      <td>50</td>\n",
       "    </tr>\n",
       "    <tr>\n",
       "      <th>2</th>\n",
       "      <td>Wed</td>\n",
       "      <td>48</td>\n",
       "    </tr>\n",
       "    <tr>\n",
       "      <th>3</th>\n",
       "      <td>Tues</td>\n",
       "      <td>34</td>\n",
       "    </tr>\n",
       "    <tr>\n",
       "      <th>4</th>\n",
       "      <td>Fri</td>\n",
       "      <td>30</td>\n",
       "    </tr>\n",
       "  </tbody>\n",
       "</table>\n",
       "</div>"
      ],
      "text/plain": [
       "    day  temperature\n",
       "0   Mon           64\n",
       "1    Th           50\n",
       "2   Wed           48\n",
       "3  Tues           34\n",
       "4   Fri           30"
      ]
     },
<<<<<<< HEAD
     "execution_count": 25,
=======
     "execution_count": 30,
>>>>>>> f27a3dbf96c9157008002b7a2560b3194c1261ba
     "metadata": {},
     "output_type": "execute_result"
    }
   ],
   "source": [
    "# slicing into a pandas dataframe\n",
    "print(df.day)\n",
    "print(df['day'])\n",
    "df[['day','temperature']]"
   ]
  },
  {
   "cell_type": "code",
<<<<<<< HEAD
   "execution_count": 26,
=======
   "execution_count": 31,
>>>>>>> f27a3dbf96c9157008002b7a2560b3194c1261ba
   "metadata": {},
   "outputs": [
    {
     "name": "stdout",
     "output_type": "stream",
     "text": [
      "Wed\n",
      "2     Wed\n",
      "3    Tues\n",
      "4     Fri\n",
      "Name: day, dtype: object\n"
     ]
    }
   ],
   "source": [
    "print(df.day[2])\n",
    "print(df.day[2:])"
   ]
  },
  {
   "cell_type": "code",
<<<<<<< HEAD
   "execution_count": 27,
=======
   "execution_count": 32,
>>>>>>> f27a3dbf96c9157008002b7a2560b3194c1261ba
   "metadata": {},
   "outputs": [
    {
     "data": {
      "text/html": [
       "<div>\n",
       "<style scoped>\n",
       "    .dataframe tbody tr th:only-of-type {\n",
       "        vertical-align: middle;\n",
       "    }\n",
       "\n",
       "    .dataframe tbody tr th {\n",
       "        vertical-align: top;\n",
       "    }\n",
       "\n",
       "    .dataframe thead th {\n",
       "        text-align: right;\n",
       "    }\n",
       "</style>\n",
       "<table border=\"1\" class=\"dataframe\">\n",
       "  <thead>\n",
       "    <tr style=\"text-align: right;\">\n",
       "      <th></th>\n",
       "      <th>temperature</th>\n",
       "      <th>time</th>\n",
       "      <th>day</th>\n",
       "    </tr>\n",
       "  </thead>\n",
       "  <tbody>\n",
       "    <tr>\n",
       "      <th>3</th>\n",
       "      <td>34</td>\n",
       "      <td>0</td>\n",
       "      <td>Tues</td>\n",
       "    </tr>\n",
       "    <tr>\n",
       "      <th>4</th>\n",
       "      <td>30</td>\n",
       "      <td>100</td>\n",
       "      <td>Fri</td>\n",
       "    </tr>\n",
       "  </tbody>\n",
       "</table>\n",
       "</div>"
      ],
      "text/plain": [
       "   temperature  time   day\n",
       "3           34     0  Tues\n",
       "4           30   100   Fri"
      ]
     },
<<<<<<< HEAD
     "execution_count": 27,
=======
     "execution_count": 32,
>>>>>>> f27a3dbf96c9157008002b7a2560b3194c1261ba
     "metadata": {},
     "output_type": "execute_result"
    }
   ],
   "source": [
    "# index location\n",
    "df.iloc[3:]"
   ]
  },
  {
   "cell_type": "code",
<<<<<<< HEAD
   "execution_count": 28,
=======
   "execution_count": 33,
>>>>>>> f27a3dbf96c9157008002b7a2560b3194c1261ba
   "metadata": {},
   "outputs": [
    {
     "data": {
      "text/html": [
       "<div>\n",
       "<style scoped>\n",
       "    .dataframe tbody tr th:only-of-type {\n",
       "        vertical-align: middle;\n",
       "    }\n",
       "\n",
       "    .dataframe tbody tr th {\n",
       "        vertical-align: top;\n",
       "    }\n",
       "\n",
       "    .dataframe thead th {\n",
       "        text-align: right;\n",
       "    }\n",
       "</style>\n",
       "<table border=\"1\" class=\"dataframe\">\n",
       "  <thead>\n",
       "    <tr style=\"text-align: right;\">\n",
       "      <th></th>\n",
       "      <th>day</th>\n",
       "      <th>temperature</th>\n",
       "    </tr>\n",
       "  </thead>\n",
       "  <tbody>\n",
       "    <tr>\n",
       "      <th>3</th>\n",
       "      <td>Tues</td>\n",
       "      <td>34</td>\n",
       "    </tr>\n",
       "    <tr>\n",
       "      <th>4</th>\n",
       "      <td>Fri</td>\n",
       "      <td>30</td>\n",
       "    </tr>\n",
       "  </tbody>\n",
       "</table>\n",
       "</div>"
      ],
      "text/plain": [
       "    day  temperature\n",
       "3  Tues           34\n",
       "4   Fri           30"
      ]
     },
<<<<<<< HEAD
     "execution_count": 28,
=======
     "execution_count": 33,
>>>>>>> f27a3dbf96c9157008002b7a2560b3194c1261ba
     "metadata": {},
     "output_type": "execute_result"
    }
   ],
   "source": [
    "df.iloc[3:][['day','temperature']]"
   ]
  },
  {
   "cell_type": "code",
<<<<<<< HEAD
   "execution_count": 29,
=======
   "execution_count": 34,
>>>>>>> f27a3dbf96c9157008002b7a2560b3194c1261ba
   "metadata": {},
   "outputs": [
    {
     "data": {
      "text/html": [
       "<div>\n",
       "<style scoped>\n",
       "    .dataframe tbody tr th:only-of-type {\n",
       "        vertical-align: middle;\n",
       "    }\n",
       "\n",
       "    .dataframe tbody tr th {\n",
       "        vertical-align: top;\n",
       "    }\n",
       "\n",
       "    .dataframe thead th {\n",
       "        text-align: right;\n",
       "    }\n",
       "</style>\n",
       "<table border=\"1\" class=\"dataframe\">\n",
       "  <thead>\n",
       "    <tr style=\"text-align: right;\">\n",
       "      <th></th>\n",
       "      <th>day</th>\n",
       "      <th>temperature</th>\n",
       "    </tr>\n",
       "  </thead>\n",
       "  <tbody>\n",
       "    <tr>\n",
       "      <th>3</th>\n",
       "      <td>Tues</td>\n",
       "      <td>34</td>\n",
       "    </tr>\n",
       "    <tr>\n",
       "      <th>4</th>\n",
       "      <td>Fri</td>\n",
       "      <td>30</td>\n",
       "    </tr>\n",
       "  </tbody>\n",
       "</table>\n",
       "</div>"
      ],
      "text/plain": [
       "    day  temperature\n",
       "3  Tues           34\n",
       "4   Fri           30"
      ]
     },
<<<<<<< HEAD
     "execution_count": 29,
=======
     "execution_count": 34,
>>>>>>> f27a3dbf96c9157008002b7a2560b3194c1261ba
     "metadata": {},
     "output_type": "execute_result"
    }
   ],
   "source": [
    "df[['day','temperature']].iloc[3:]"
   ]
  },
  {
   "cell_type": "code",
<<<<<<< HEAD
   "execution_count": 31,
   "metadata": {},
   "outputs": [
    {
=======
   "execution_count": 35,
   "metadata": {},
   "outputs": [
    {
     "name": "stderr",
     "output_type": "stream",
     "text": [
      "C:\\Users\\EV-04\\AppData\\Local\\Temp/ipykernel_1812/3698961737.py:1: FutureWarning: Dropping of nuisance columns in DataFrame reductions (with 'numeric_only=None') is deprecated; in a future version this will raise TypeError.  Select only valid columns before calling the reduction.\n",
      "  df.mean()\n"
     ]
    },
    {
>>>>>>> f27a3dbf96c9157008002b7a2560b3194c1261ba
     "data": {
      "text/plain": [
       "temperature      45.2\n",
       "time           1340.0\n",
       "dtype: float64"
      ]
     },
<<<<<<< HEAD
     "execution_count": 31,
=======
     "execution_count": 35,
>>>>>>> f27a3dbf96c9157008002b7a2560b3194c1261ba
     "metadata": {},
     "output_type": "execute_result"
    }
   ],
   "source": [
    "df.mean(numeric_only=True)"
   ]
  },
  {
   "cell_type": "code",
<<<<<<< HEAD
   "execution_count": 32,
   "metadata": {},
   "outputs": [
    {
=======
   "execution_count": 36,
   "metadata": {},
   "outputs": [
    {
     "name": "stderr",
     "output_type": "stream",
     "text": [
      "C:\\Users\\EV-04\\AppData\\Local\\Temp/ipykernel_1812/3390915376.py:1: FutureWarning: Dropping of nuisance columns in DataFrame reductions (with 'numeric_only=None') is deprecated; in a future version this will raise TypeError.  Select only valid columns before calling the reduction.\n",
      "  df.std()\n"
     ]
    },
    {
>>>>>>> f27a3dbf96c9157008002b7a2560b3194c1261ba
     "data": {
      "text/plain": [
       "temperature      13.608821\n",
       "time           1180.254210\n",
       "dtype: float64"
      ]
     },
<<<<<<< HEAD
     "execution_count": 32,
=======
     "execution_count": 36,
>>>>>>> f27a3dbf96c9157008002b7a2560b3194c1261ba
     "metadata": {},
     "output_type": "execute_result"
    }
   ],
   "source": [
    "df.std(numeric_only=True)"
   ]
  },
  {
   "cell_type": "code",
<<<<<<< HEAD
   "execution_count": 33,
   "metadata": {},
   "outputs": [
    {
=======
   "execution_count": 37,
   "metadata": {},
   "outputs": [
    {
     "name": "stderr",
     "output_type": "stream",
     "text": [
      "C:\\Users\\EV-04\\AppData\\Local\\Temp/ipykernel_1812/1984843129.py:1: FutureWarning: Dropping of nuisance columns in DataFrame reductions (with 'numeric_only=None') is deprecated; in a future version this will raise TypeError.  Select only valid columns before calling the reduction.\n",
      "  df.mean()/df.std()\n"
     ]
    },
    {
>>>>>>> f27a3dbf96c9157008002b7a2560b3194c1261ba
     "data": {
      "text/plain": [
       "temperature    3.321375\n",
       "time           1.135349\n",
       "dtype: float64"
      ]
     },
<<<<<<< HEAD
     "execution_count": 33,
=======
     "execution_count": 37,
>>>>>>> f27a3dbf96c9157008002b7a2560b3194c1261ba
     "metadata": {},
     "output_type": "execute_result"
    }
   ],
   "source": [
    "df.mean(numeric_only=True)/df.std(numeric_only=True)"
   ]
  },
  {
   "cell_type": "code",
<<<<<<< HEAD
   "execution_count": 34,
=======
   "execution_count": 38,
>>>>>>> f27a3dbf96c9157008002b7a2560b3194c1261ba
   "metadata": {},
   "outputs": [
    {
     "data": {
      "text/plain": [
       "array([2100, 2200, 2300,    0,  100])"
      ]
     },
<<<<<<< HEAD
     "execution_count": 34,
=======
     "execution_count": 38,
>>>>>>> f27a3dbf96c9157008002b7a2560b3194c1261ba
     "metadata": {},
     "output_type": "execute_result"
    }
   ],
   "source": [
    "df.time.unique()"
   ]
  },
  {
   "cell_type": "markdown",
   "metadata": {},
   "source": [
    "# Pandas Block Manager\n",
    "Let's take a look at some important points from the following post:\n",
    " - https://uwekorn.com/2020/05/24/the-one-pandas-internal.html\n",
    "\n",
    "This is the pandas BlockManager, which tries to group internal structures together to make things fast:\n",
    "<img src=\"https://uwekorn.com/images/pd-df-perception.002.png\" width=200 height=200 />"
   ]
  },
  {
   "cell_type": "code",
<<<<<<< HEAD
   "execution_count": 35,
=======
   "execution_count": 39,
>>>>>>> f27a3dbf96c9157008002b7a2560b3194c1261ba
   "metadata": {},
   "outputs": [
    {
     "data": {
      "text/html": [
       "<div>\n",
       "<style scoped>\n",
       "    .dataframe tbody tr th:only-of-type {\n",
       "        vertical-align: middle;\n",
       "    }\n",
       "\n",
       "    .dataframe tbody tr th {\n",
       "        vertical-align: top;\n",
       "    }\n",
       "\n",
       "    .dataframe thead th {\n",
       "        text-align: right;\n",
       "    }\n",
       "</style>\n",
       "<table border=\"1\" class=\"dataframe\">\n",
       "  <thead>\n",
       "    <tr style=\"text-align: right;\">\n",
       "      <th></th>\n",
       "      <th>temperature</th>\n",
       "      <th>time</th>\n",
       "      <th>day</th>\n",
       "    </tr>\n",
       "  </thead>\n",
       "  <tbody>\n",
       "    <tr>\n",
       "      <th>0</th>\n",
       "      <td>64</td>\n",
       "      <td>2100</td>\n",
       "      <td>Mon</td>\n",
       "    </tr>\n",
       "    <tr>\n",
       "      <th>1</th>\n",
       "      <td>50</td>\n",
       "      <td>2200</td>\n",
       "      <td>Th</td>\n",
       "    </tr>\n",
       "    <tr>\n",
       "      <th>2</th>\n",
       "      <td>48</td>\n",
       "      <td>2300</td>\n",
       "      <td>Wed</td>\n",
       "    </tr>\n",
       "    <tr>\n",
       "      <th>3</th>\n",
       "      <td>34</td>\n",
       "      <td>0</td>\n",
       "      <td>Tues</td>\n",
       "    </tr>\n",
       "    <tr>\n",
       "      <th>4</th>\n",
       "      <td>30</td>\n",
       "      <td>100</td>\n",
       "      <td>Fri</td>\n",
       "    </tr>\n",
       "  </tbody>\n",
       "</table>\n",
       "</div>"
      ],
      "text/plain": [
       "   temperature  time   day\n",
       "0           64  2100   Mon\n",
       "1           50  2200    Th\n",
       "2           48  2300   Wed\n",
       "3           34     0  Tues\n",
       "4           30   100   Fri"
      ]
     },
<<<<<<< HEAD
     "execution_count": 35,
=======
     "execution_count": 39,
>>>>>>> f27a3dbf96c9157008002b7a2560b3194c1261ba
     "metadata": {},
     "output_type": "execute_result"
    }
   ],
   "source": [
    "df"
   ]
  },
  {
   "cell_type": "code",
<<<<<<< HEAD
   "execution_count": 36,
=======
   "execution_count": 40,
>>>>>>> f27a3dbf96c9157008002b7a2560b3194c1261ba
   "metadata": {},
   "outputs": [
    {
     "name": "stdout",
     "output_type": "stream",
     "text": [
      "2\n"
     ]
    },
    {
     "data": {
      "text/plain": [
       "BlockManager\n",
       "Items: Index(['temperature', 'time', 'day'], dtype='object')\n",
       "Axis 1: RangeIndex(start=0, stop=5, step=1)\n",
<<<<<<< HEAD
       "NumericBlock: slice(0, 2, 1), 2 x 5, dtype: int64\n",
       "ObjectBlock: slice(2, 3, 1), 1 x 5, dtype: object"
      ]
     },
     "execution_count": 36,
=======
       "NumericBlock: slice(0, 2, 1), 2 x 5, dtype: int32\n",
       "ObjectBlock: slice(2, 3, 1), 1 x 5, dtype: object"
      ]
     },
     "execution_count": 40,
>>>>>>> f27a3dbf96c9157008002b7a2560b3194c1261ba
     "metadata": {},
     "output_type": "execute_result"
    }
   ],
   "source": [
    "print(df._data.nblocks)\n",
    "df._data"
   ]
  },
  {
   "cell_type": "markdown",
   "metadata": {},
   "source": [
    "## Advantages and disadvantages:\n",
    "This can speed up operations because it inhenertly can apply operations along columns in a single pass over the data (like sums, etc.) and therefore is using c++ for much of the heavy lifting.\n",
    "\n",
    "But, **it might be bad** when you are adding columns to the data because it can trigger consolidation of columns, which means copying over data in numpy to creata new matrix. The slow down also doesn't show up until a needed column is accessed (lazy data copying). Let's do an example from:  https://uwekorn.com/2020/05/24/the-one-pandas-internal.html\n",
    "\n",
    "**Block consolidation is triggered after 100 blocks of data are reached.**"
   ]
  },
  {
   "cell_type": "code",
<<<<<<< HEAD
   "execution_count": 53,
=======
   "execution_count": 41,
>>>>>>> f27a3dbf96c9157008002b7a2560b3194c1261ba
   "metadata": {},
   "outputs": [
    {
     "data": {
      "text/html": [
       "<div>\n",
       "<style scoped>\n",
       "    .dataframe tbody tr th:only-of-type {\n",
       "        vertical-align: middle;\n",
       "    }\n",
       "\n",
       "    .dataframe tbody tr th {\n",
       "        vertical-align: top;\n",
       "    }\n",
       "\n",
       "    .dataframe thead th {\n",
       "        text-align: right;\n",
       "    }\n",
       "</style>\n",
       "<table border=\"1\" class=\"dataframe\">\n",
       "  <thead>\n",
       "    <tr style=\"text-align: right;\">\n",
       "      <th></th>\n",
       "      <th>int64</th>\n",
       "      <th>float64</th>\n",
       "    </tr>\n",
       "  </thead>\n",
       "  <tbody>\n",
       "    <tr>\n",
       "      <th>0</th>\n",
       "      <td>0</td>\n",
       "      <td>0.0</td>\n",
       "    </tr>\n",
       "    <tr>\n",
       "      <th>1</th>\n",
       "      <td>1</td>\n",
       "      <td>1.0</td>\n",
       "    </tr>\n",
       "    <tr>\n",
       "      <th>2</th>\n",
       "      <td>2</td>\n",
       "      <td>2.0</td>\n",
       "    </tr>\n",
       "    <tr>\n",
       "      <th>3</th>\n",
       "      <td>3</td>\n",
       "      <td>3.0</td>\n",
       "    </tr>\n",
       "    <tr>\n",
       "      <th>4</th>\n",
       "      <td>4</td>\n",
       "      <td>4.0</td>\n",
       "    </tr>\n",
       "    <tr>\n",
       "      <th>...</th>\n",
       "      <td>...</td>\n",
       "      <td>...</td>\n",
       "    </tr>\n",
       "    <tr>\n",
       "      <th>1048571</th>\n",
       "      <td>1048571</td>\n",
       "      <td>1048571.0</td>\n",
       "    </tr>\n",
       "    <tr>\n",
       "      <th>1048572</th>\n",
       "      <td>1048572</td>\n",
       "      <td>1048572.0</td>\n",
       "    </tr>\n",
       "    <tr>\n",
       "      <th>1048573</th>\n",
       "      <td>1048573</td>\n",
       "      <td>1048573.0</td>\n",
       "    </tr>\n",
       "    <tr>\n",
       "      <th>1048574</th>\n",
       "      <td>1048574</td>\n",
       "      <td>1048574.0</td>\n",
       "    </tr>\n",
       "    <tr>\n",
       "      <th>1048575</th>\n",
       "      <td>1048575</td>\n",
       "      <td>1048575.0</td>\n",
       "    </tr>\n",
       "  </tbody>\n",
       "</table>\n",
       "<p>1048576 rows × 2 columns</p>\n",
       "</div>"
      ],
      "text/plain": [
       "           int64    float64\n",
       "0              0        0.0\n",
       "1              1        1.0\n",
       "2              2        2.0\n",
       "3              3        3.0\n",
       "4              4        4.0\n",
       "...          ...        ...\n",
       "1048571  1048571  1048571.0\n",
       "1048572  1048572  1048572.0\n",
       "1048573  1048573  1048573.0\n",
       "1048574  1048574  1048574.0\n",
       "1048575  1048575  1048575.0\n",
       "\n",
       "[1048576 rows x 2 columns]"
      ]
     },
<<<<<<< HEAD
     "execution_count": 53,
=======
     "execution_count": 41,
>>>>>>> f27a3dbf96c9157008002b7a2560b3194c1261ba
     "metadata": {},
     "output_type": "execute_result"
    }
   ],
   "source": [
    "# we will start with a 2 column dataframe\n",
    "# one column is an int and the other a float\n",
    "# becasue there are two datatypes this has two blocks\n",
    "df_example = pd.DataFrame({\n",
    "    'int64': np.arange(1024 * 1024, dtype=np.int64),\n",
    "    'float64': np.arange(1024 * 1024, dtype=np.float64),\n",
    "})\n",
    "df_example"
   ]
  },
  {
   "cell_type": "code",
<<<<<<< HEAD
   "execution_count": 54,
=======
   "execution_count": 42,
>>>>>>> f27a3dbf96c9157008002b7a2560b3194c1261ba
   "metadata": {},
   "outputs": [
    {
     "name": "stdout",
     "output_type": "stream",
     "text": [
<<<<<<< HEAD
      "98\n",
      "CPU times: user 208 ms, sys: 111 ms, total: 319 ms\n",
      "Wall time: 319 ms\n"
=======
      "99\n",
      "Wall time: 202 ms\n"
>>>>>>> f27a3dbf96c9157008002b7a2560b3194c1261ba
     ]
    },
    {
     "data": {
      "text/html": [
       "<div>\n",
       "<style scoped>\n",
       "    .dataframe tbody tr th:only-of-type {\n",
       "        vertical-align: middle;\n",
       "    }\n",
       "\n",
       "    .dataframe tbody tr th {\n",
       "        vertical-align: top;\n",
       "    }\n",
       "\n",
       "    .dataframe thead th {\n",
       "        text-align: right;\n",
       "    }\n",
       "</style>\n",
       "<table border=\"1\" class=\"dataframe\">\n",
       "  <thead>\n",
       "    <tr style=\"text-align: right;\">\n",
       "      <th></th>\n",
       "      <th>int64</th>\n",
       "      <th>float64</th>\n",
       "      <th>new_0</th>\n",
       "      <th>new_1</th>\n",
       "      <th>new_2</th>\n",
       "      <th>new_3</th>\n",
       "      <th>new_4</th>\n",
       "      <th>new_5</th>\n",
       "      <th>new_6</th>\n",
       "      <th>new_7</th>\n",
       "      <th>...</th>\n",
<<<<<<< HEAD
       "      <th>new_86</th>\n",
=======
>>>>>>> f27a3dbf96c9157008002b7a2560b3194c1261ba
       "      <th>new_87</th>\n",
       "      <th>new_88</th>\n",
       "      <th>new_89</th>\n",
       "      <th>new_90</th>\n",
       "      <th>new_91</th>\n",
       "      <th>new_92</th>\n",
       "      <th>new_93</th>\n",
       "      <th>new_94</th>\n",
       "      <th>new_95</th>\n",
<<<<<<< HEAD
=======
       "      <th>new_96</th>\n",
>>>>>>> f27a3dbf96c9157008002b7a2560b3194c1261ba
       "    </tr>\n",
       "  </thead>\n",
       "  <tbody>\n",
       "    <tr>\n",
       "      <th>0</th>\n",
       "      <td>0</td>\n",
       "      <td>0.0</td>\n",
       "      <td>0</td>\n",
       "      <td>0</td>\n",
       "      <td>0</td>\n",
       "      <td>0</td>\n",
       "      <td>0</td>\n",
       "      <td>0</td>\n",
       "      <td>0</td>\n",
       "      <td>0</td>\n",
       "      <td>...</td>\n",
       "      <td>0</td>\n",
       "      <td>0</td>\n",
       "      <td>0</td>\n",
       "      <td>0</td>\n",
       "      <td>0</td>\n",
       "      <td>0</td>\n",
       "      <td>0</td>\n",
       "      <td>0</td>\n",
       "      <td>0</td>\n",
       "      <td>0</td>\n",
       "    </tr>\n",
       "    <tr>\n",
       "      <th>1</th>\n",
       "      <td>1</td>\n",
       "      <td>1.0</td>\n",
       "      <td>1</td>\n",
       "      <td>1</td>\n",
       "      <td>1</td>\n",
       "      <td>1</td>\n",
       "      <td>1</td>\n",
       "      <td>1</td>\n",
       "      <td>1</td>\n",
       "      <td>1</td>\n",
       "      <td>...</td>\n",
       "      <td>1</td>\n",
       "      <td>1</td>\n",
       "      <td>1</td>\n",
       "      <td>1</td>\n",
       "      <td>1</td>\n",
       "      <td>1</td>\n",
       "      <td>1</td>\n",
       "      <td>1</td>\n",
       "      <td>1</td>\n",
       "      <td>1</td>\n",
       "    </tr>\n",
       "    <tr>\n",
       "      <th>2</th>\n",
       "      <td>2</td>\n",
       "      <td>2.0</td>\n",
       "      <td>2</td>\n",
       "      <td>2</td>\n",
       "      <td>2</td>\n",
       "      <td>2</td>\n",
       "      <td>2</td>\n",
       "      <td>2</td>\n",
       "      <td>2</td>\n",
       "      <td>2</td>\n",
       "      <td>...</td>\n",
       "      <td>2</td>\n",
       "      <td>2</td>\n",
       "      <td>2</td>\n",
       "      <td>2</td>\n",
       "      <td>2</td>\n",
       "      <td>2</td>\n",
       "      <td>2</td>\n",
       "      <td>2</td>\n",
       "      <td>2</td>\n",
       "      <td>2</td>\n",
       "    </tr>\n",
       "    <tr>\n",
       "      <th>3</th>\n",
       "      <td>3</td>\n",
       "      <td>3.0</td>\n",
       "      <td>3</td>\n",
       "      <td>3</td>\n",
       "      <td>3</td>\n",
       "      <td>3</td>\n",
       "      <td>3</td>\n",
       "      <td>3</td>\n",
       "      <td>3</td>\n",
       "      <td>3</td>\n",
       "      <td>...</td>\n",
       "      <td>3</td>\n",
       "      <td>3</td>\n",
       "      <td>3</td>\n",
       "      <td>3</td>\n",
       "      <td>3</td>\n",
       "      <td>3</td>\n",
       "      <td>3</td>\n",
       "      <td>3</td>\n",
       "      <td>3</td>\n",
       "      <td>3</td>\n",
       "    </tr>\n",
       "    <tr>\n",
       "      <th>4</th>\n",
       "      <td>4</td>\n",
       "      <td>4.0</td>\n",
       "      <td>4</td>\n",
       "      <td>4</td>\n",
       "      <td>4</td>\n",
       "      <td>4</td>\n",
       "      <td>4</td>\n",
       "      <td>4</td>\n",
       "      <td>4</td>\n",
       "      <td>4</td>\n",
       "      <td>...</td>\n",
       "      <td>4</td>\n",
       "      <td>4</td>\n",
       "      <td>4</td>\n",
       "      <td>4</td>\n",
       "      <td>4</td>\n",
       "      <td>4</td>\n",
       "      <td>4</td>\n",
       "      <td>4</td>\n",
       "      <td>4</td>\n",
       "      <td>4</td>\n",
       "    </tr>\n",
       "    <tr>\n",
       "      <th>...</th>\n",
       "      <td>...</td>\n",
       "      <td>...</td>\n",
       "      <td>...</td>\n",
       "      <td>...</td>\n",
       "      <td>...</td>\n",
       "      <td>...</td>\n",
       "      <td>...</td>\n",
       "      <td>...</td>\n",
       "      <td>...</td>\n",
       "      <td>...</td>\n",
       "      <td>...</td>\n",
       "      <td>...</td>\n",
       "      <td>...</td>\n",
       "      <td>...</td>\n",
       "      <td>...</td>\n",
       "      <td>...</td>\n",
       "      <td>...</td>\n",
       "      <td>...</td>\n",
       "      <td>...</td>\n",
       "      <td>...</td>\n",
       "      <td>...</td>\n",
       "    </tr>\n",
       "    <tr>\n",
       "      <th>1048571</th>\n",
       "      <td>1048571</td>\n",
       "      <td>1048571.0</td>\n",
       "      <td>1048571</td>\n",
       "      <td>1048571</td>\n",
       "      <td>1048571</td>\n",
       "      <td>1048571</td>\n",
       "      <td>1048571</td>\n",
       "      <td>1048571</td>\n",
       "      <td>1048571</td>\n",
       "      <td>1048571</td>\n",
       "      <td>...</td>\n",
       "      <td>1048571</td>\n",
       "      <td>1048571</td>\n",
       "      <td>1048571</td>\n",
       "      <td>1048571</td>\n",
       "      <td>1048571</td>\n",
       "      <td>1048571</td>\n",
       "      <td>1048571</td>\n",
       "      <td>1048571</td>\n",
       "      <td>1048571</td>\n",
       "      <td>1048571</td>\n",
       "    </tr>\n",
       "    <tr>\n",
       "      <th>1048572</th>\n",
       "      <td>1048572</td>\n",
       "      <td>1048572.0</td>\n",
       "      <td>1048572</td>\n",
       "      <td>1048572</td>\n",
       "      <td>1048572</td>\n",
       "      <td>1048572</td>\n",
       "      <td>1048572</td>\n",
       "      <td>1048572</td>\n",
       "      <td>1048572</td>\n",
       "      <td>1048572</td>\n",
       "      <td>...</td>\n",
       "      <td>1048572</td>\n",
       "      <td>1048572</td>\n",
       "      <td>1048572</td>\n",
       "      <td>1048572</td>\n",
       "      <td>1048572</td>\n",
       "      <td>1048572</td>\n",
       "      <td>1048572</td>\n",
       "      <td>1048572</td>\n",
       "      <td>1048572</td>\n",
       "      <td>1048572</td>\n",
       "    </tr>\n",
       "    <tr>\n",
       "      <th>1048573</th>\n",
       "      <td>1048573</td>\n",
       "      <td>1048573.0</td>\n",
       "      <td>1048573</td>\n",
       "      <td>1048573</td>\n",
       "      <td>1048573</td>\n",
       "      <td>1048573</td>\n",
       "      <td>1048573</td>\n",
       "      <td>1048573</td>\n",
       "      <td>1048573</td>\n",
       "      <td>1048573</td>\n",
       "      <td>...</td>\n",
       "      <td>1048573</td>\n",
       "      <td>1048573</td>\n",
       "      <td>1048573</td>\n",
       "      <td>1048573</td>\n",
       "      <td>1048573</td>\n",
       "      <td>1048573</td>\n",
       "      <td>1048573</td>\n",
       "      <td>1048573</td>\n",
       "      <td>1048573</td>\n",
       "      <td>1048573</td>\n",
       "    </tr>\n",
       "    <tr>\n",
       "      <th>1048574</th>\n",
       "      <td>1048574</td>\n",
       "      <td>1048574.0</td>\n",
       "      <td>1048574</td>\n",
       "      <td>1048574</td>\n",
       "      <td>1048574</td>\n",
       "      <td>1048574</td>\n",
       "      <td>1048574</td>\n",
       "      <td>1048574</td>\n",
       "      <td>1048574</td>\n",
       "      <td>1048574</td>\n",
       "      <td>...</td>\n",
       "      <td>1048574</td>\n",
       "      <td>1048574</td>\n",
       "      <td>1048574</td>\n",
       "      <td>1048574</td>\n",
       "      <td>1048574</td>\n",
       "      <td>1048574</td>\n",
       "      <td>1048574</td>\n",
       "      <td>1048574</td>\n",
       "      <td>1048574</td>\n",
       "      <td>1048574</td>\n",
       "    </tr>\n",
       "    <tr>\n",
       "      <th>1048575</th>\n",
       "      <td>1048575</td>\n",
       "      <td>1048575.0</td>\n",
       "      <td>1048575</td>\n",
       "      <td>1048575</td>\n",
       "      <td>1048575</td>\n",
       "      <td>1048575</td>\n",
       "      <td>1048575</td>\n",
       "      <td>1048575</td>\n",
       "      <td>1048575</td>\n",
       "      <td>1048575</td>\n",
       "      <td>...</td>\n",
       "      <td>1048575</td>\n",
       "      <td>1048575</td>\n",
       "      <td>1048575</td>\n",
       "      <td>1048575</td>\n",
       "      <td>1048575</td>\n",
       "      <td>1048575</td>\n",
       "      <td>1048575</td>\n",
       "      <td>1048575</td>\n",
       "      <td>1048575</td>\n",
       "      <td>1048575</td>\n",
       "    </tr>\n",
       "  </tbody>\n",
       "</table>\n",
<<<<<<< HEAD
       "<p>1048576 rows × 98 columns</p>\n",
=======
       "<p>1048576 rows × 99 columns</p>\n",
>>>>>>> f27a3dbf96c9157008002b7a2560b3194c1261ba
       "</div>"
      ],
      "text/plain": [
       "           int64    float64    new_0    new_1    new_2    new_3    new_4  \\\n",
       "0              0        0.0        0        0        0        0        0   \n",
       "1              1        1.0        1        1        1        1        1   \n",
       "2              2        2.0        2        2        2        2        2   \n",
       "3              3        3.0        3        3        3        3        3   \n",
       "4              4        4.0        4        4        4        4        4   \n",
       "...          ...        ...      ...      ...      ...      ...      ...   \n",
       "1048571  1048571  1048571.0  1048571  1048571  1048571  1048571  1048571   \n",
       "1048572  1048572  1048572.0  1048572  1048572  1048572  1048572  1048572   \n",
       "1048573  1048573  1048573.0  1048573  1048573  1048573  1048573  1048573   \n",
       "1048574  1048574  1048574.0  1048574  1048574  1048574  1048574  1048574   \n",
       "1048575  1048575  1048575.0  1048575  1048575  1048575  1048575  1048575   \n",
       "\n",
<<<<<<< HEAD
       "           new_5    new_6    new_7  ...   new_86   new_87   new_88   new_89  \\\n",
=======
       "           new_5    new_6    new_7  ...   new_87   new_88   new_89   new_90  \\\n",
>>>>>>> f27a3dbf96c9157008002b7a2560b3194c1261ba
       "0              0        0        0  ...        0        0        0        0   \n",
       "1              1        1        1  ...        1        1        1        1   \n",
       "2              2        2        2  ...        2        2        2        2   \n",
       "3              3        3        3  ...        3        3        3        3   \n",
       "4              4        4        4  ...        4        4        4        4   \n",
       "...          ...      ...      ...  ...      ...      ...      ...      ...   \n",
       "1048571  1048571  1048571  1048571  ...  1048571  1048571  1048571  1048571   \n",
       "1048572  1048572  1048572  1048572  ...  1048572  1048572  1048572  1048572   \n",
       "1048573  1048573  1048573  1048573  ...  1048573  1048573  1048573  1048573   \n",
       "1048574  1048574  1048574  1048574  ...  1048574  1048574  1048574  1048574   \n",
       "1048575  1048575  1048575  1048575  ...  1048575  1048575  1048575  1048575   \n",
       "\n",
<<<<<<< HEAD
       "          new_90   new_91   new_92   new_93   new_94   new_95  \n",
=======
       "          new_91   new_92   new_93   new_94   new_95   new_96  \n",
>>>>>>> f27a3dbf96c9157008002b7a2560b3194c1261ba
       "0              0        0        0        0        0        0  \n",
       "1              1        1        1        1        1        1  \n",
       "2              2        2        2        2        2        2  \n",
       "3              3        3        3        3        3        3  \n",
       "4              4        4        4        4        4        4  \n",
       "...          ...      ...      ...      ...      ...      ...  \n",
       "1048571  1048571  1048571  1048571  1048571  1048571  1048571  \n",
       "1048572  1048572  1048572  1048572  1048572  1048572  1048572  \n",
       "1048573  1048573  1048573  1048573  1048573  1048573  1048573  \n",
       "1048574  1048574  1048574  1048574  1048574  1048574  1048574  \n",
       "1048575  1048575  1048575  1048575  1048575  1048575  1048575  \n",
       "\n",
<<<<<<< HEAD
       "[1048576 rows x 98 columns]"
      ]
     },
     "execution_count": 54,
=======
       "[1048576 rows x 99 columns]"
      ]
     },
     "execution_count": 42,
>>>>>>> f27a3dbf96c9157008002b7a2560b3194c1261ba
     "metadata": {},
     "output_type": "execute_result"
    }
   ],
   "source": [
    "%%time \n",
    "\n",
    "# but now lets start to add columns one by one\n",
    "# to be fast, pandas adds each as a new block \n",
    "# so we will have 99 blocks (2+97 new ones)\n",
    "for i in range(96):\n",
    "    df_example[f'new_{i}'] = df_example['int64'].to_numpy()\n",
    "    \n",
    "print(df_example._data.nblocks)\n",
    "df_example"
   ]
  },
  {
   "cell_type": "code",
<<<<<<< HEAD
   "execution_count": 55,
=======
   "execution_count": 43,
>>>>>>> f27a3dbf96c9157008002b7a2560b3194c1261ba
   "metadata": {},
   "outputs": [
    {
     "name": "stdout",
     "output_type": "stream",
     "text": [
<<<<<<< HEAD
      "CPU times: user 2.74 ms, sys: 1.33 ms, total: 4.08 ms\n",
      "Wall time: 2.22 ms\n",
      "Number of blocks in data: 99\n",
      "CPU times: user 727 ms, sys: 653 ms, total: 1.38 s\n",
      "Wall time: 1.39 s\n",
      "CPU times: user 1.66 ms, sys: 97 µs, total: 1.76 ms\n",
      "Wall time: 1.38 ms\n",
      "Number of blocks in data: 3\n"
=======
      "Wall time: 1.99 ms\n",
      "Number of blocks in data: 100\n",
      "Wall time: 1.99 ms\n",
      "Number of blocks in data: 101\n"
     ]
    },
    {
     "name": "stderr",
     "output_type": "stream",
     "text": [
      "<timed exec>:1: PerformanceWarning: DataFrame is highly fragmented.  This is usually the result of calling `frame.insert` many times, which has poor performance.  Consider joining all columns at once using pd.concat(axis=1) instead.  To get a de-fragmented frame, use `newframe = frame.copy()`\n"
>>>>>>> f27a3dbf96c9157008002b7a2560b3194c1261ba
     ]
    }
   ],
   "source": [
    "%time df_example['dummy_name5'] = df_example['int64'].to_numpy() # copy over some new columns\n",
    "print('Number of blocks in data:',df_example._data.nblocks)\n",
    "\n",
    "# force consolidation \n",
    "%time df_example.reindex()\n",
    "\n",
    "%time df_example['dummy_name6'] = df_example['int64'].to_numpy() # copy over some new columns\n",
    "print('Number of blocks in data:',df_example._data.nblocks)\n"
   ]
  },
  {
   "cell_type": "code",
<<<<<<< HEAD
   "execution_count": 56,
=======
   "execution_count": 44,
>>>>>>> f27a3dbf96c9157008002b7a2560b3194c1261ba
   "metadata": {},
   "outputs": [
    {
     "name": "stdout",
     "output_type": "stream",
     "text": [
      "<class 'pandas.core.frame.DataFrame'>\n",
      "RangeIndex: 1048576 entries, 0 to 1048575\n",
<<<<<<< HEAD
      "Data columns (total 100 columns):\n",
      " #   Column       Non-Null Count    Dtype  \n",
      "---  ------       --------------    -----  \n",
      " 0   int64        1048576 non-null  int64  \n",
      " 1   float64      1048576 non-null  float64\n",
      " 2   new_0        1048576 non-null  int64  \n",
      " 3   new_1        1048576 non-null  int64  \n",
      " 4   new_2        1048576 non-null  int64  \n",
      " 5   new_3        1048576 non-null  int64  \n",
      " 6   new_4        1048576 non-null  int64  \n",
      " 7   new_5        1048576 non-null  int64  \n",
      " 8   new_6        1048576 non-null  int64  \n",
      " 9   new_7        1048576 non-null  int64  \n",
      " 10  new_8        1048576 non-null  int64  \n",
      " 11  new_9        1048576 non-null  int64  \n",
      " 12  new_10       1048576 non-null  int64  \n",
      " 13  new_11       1048576 non-null  int64  \n",
      " 14  new_12       1048576 non-null  int64  \n",
      " 15  new_13       1048576 non-null  int64  \n",
      " 16  new_14       1048576 non-null  int64  \n",
      " 17  new_15       1048576 non-null  int64  \n",
      " 18  new_16       1048576 non-null  int64  \n",
      " 19  new_17       1048576 non-null  int64  \n",
      " 20  new_18       1048576 non-null  int64  \n",
      " 21  new_19       1048576 non-null  int64  \n",
      " 22  new_20       1048576 non-null  int64  \n",
      " 23  new_21       1048576 non-null  int64  \n",
      " 24  new_22       1048576 non-null  int64  \n",
      " 25  new_23       1048576 non-null  int64  \n",
      " 26  new_24       1048576 non-null  int64  \n",
      " 27  new_25       1048576 non-null  int64  \n",
      " 28  new_26       1048576 non-null  int64  \n",
      " 29  new_27       1048576 non-null  int64  \n",
      " 30  new_28       1048576 non-null  int64  \n",
      " 31  new_29       1048576 non-null  int64  \n",
      " 32  new_30       1048576 non-null  int64  \n",
      " 33  new_31       1048576 non-null  int64  \n",
      " 34  new_32       1048576 non-null  int64  \n",
      " 35  new_33       1048576 non-null  int64  \n",
      " 36  new_34       1048576 non-null  int64  \n",
      " 37  new_35       1048576 non-null  int64  \n",
      " 38  new_36       1048576 non-null  int64  \n",
      " 39  new_37       1048576 non-null  int64  \n",
      " 40  new_38       1048576 non-null  int64  \n",
      " 41  new_39       1048576 non-null  int64  \n",
      " 42  new_40       1048576 non-null  int64  \n",
      " 43  new_41       1048576 non-null  int64  \n",
      " 44  new_42       1048576 non-null  int64  \n",
      " 45  new_43       1048576 non-null  int64  \n",
      " 46  new_44       1048576 non-null  int64  \n",
      " 47  new_45       1048576 non-null  int64  \n",
      " 48  new_46       1048576 non-null  int64  \n",
      " 49  new_47       1048576 non-null  int64  \n",
      " 50  new_48       1048576 non-null  int64  \n",
      " 51  new_49       1048576 non-null  int64  \n",
      " 52  new_50       1048576 non-null  int64  \n",
      " 53  new_51       1048576 non-null  int64  \n",
      " 54  new_52       1048576 non-null  int64  \n",
      " 55  new_53       1048576 non-null  int64  \n",
      " 56  new_54       1048576 non-null  int64  \n",
      " 57  new_55       1048576 non-null  int64  \n",
      " 58  new_56       1048576 non-null  int64  \n",
      " 59  new_57       1048576 non-null  int64  \n",
      " 60  new_58       1048576 non-null  int64  \n",
      " 61  new_59       1048576 non-null  int64  \n",
      " 62  new_60       1048576 non-null  int64  \n",
      " 63  new_61       1048576 non-null  int64  \n",
      " 64  new_62       1048576 non-null  int64  \n",
      " 65  new_63       1048576 non-null  int64  \n",
      " 66  new_64       1048576 non-null  int64  \n",
      " 67  new_65       1048576 non-null  int64  \n",
      " 68  new_66       1048576 non-null  int64  \n",
      " 69  new_67       1048576 non-null  int64  \n",
      " 70  new_68       1048576 non-null  int64  \n",
      " 71  new_69       1048576 non-null  int64  \n",
      " 72  new_70       1048576 non-null  int64  \n",
      " 73  new_71       1048576 non-null  int64  \n",
      " 74  new_72       1048576 non-null  int64  \n",
      " 75  new_73       1048576 non-null  int64  \n",
      " 76  new_74       1048576 non-null  int64  \n",
      " 77  new_75       1048576 non-null  int64  \n",
      " 78  new_76       1048576 non-null  int64  \n",
      " 79  new_77       1048576 non-null  int64  \n",
      " 80  new_78       1048576 non-null  int64  \n",
      " 81  new_79       1048576 non-null  int64  \n",
      " 82  new_80       1048576 non-null  int64  \n",
      " 83  new_81       1048576 non-null  int64  \n",
      " 84  new_82       1048576 non-null  int64  \n",
      " 85  new_83       1048576 non-null  int64  \n",
      " 86  new_84       1048576 non-null  int64  \n",
      " 87  new_85       1048576 non-null  int64  \n",
      " 88  new_86       1048576 non-null  int64  \n",
      " 89  new_87       1048576 non-null  int64  \n",
      " 90  new_88       1048576 non-null  int64  \n",
      " 91  new_89       1048576 non-null  int64  \n",
      " 92  new_90       1048576 non-null  int64  \n",
      " 93  new_91       1048576 non-null  int64  \n",
      " 94  new_92       1048576 non-null  int64  \n",
      " 95  new_93       1048576 non-null  int64  \n",
      " 96  new_94       1048576 non-null  int64  \n",
      " 97  new_95       1048576 non-null  int64  \n",
      " 98  dummy_name5  1048576 non-null  int64  \n",
      " 99  dummy_name6  1048576 non-null  int64  \n",
      "dtypes: float64(1), int64(99)\n",
      "memory usage: 800.0 MB\n"
=======
      "Columns: 101 entries, int64 to dummy_name4\n",
      "dtypes: float64(1), int64(100)\n",
      "memory usage: 808.0 MB\n"
>>>>>>> f27a3dbf96c9157008002b7a2560b3194c1261ba
     ]
    }
   ],
   "source": [
    "df_example.info()"
   ]
  },
  {
   "cell_type": "code",
   "execution_count": null,
   "metadata": {},
   "outputs": [],
   "source": []
  },
  {
   "cell_type": "code",
   "execution_count": null,
   "metadata": {},
   "outputs": [],
   "source": []
  }
 ],
 "metadata": {
  "anaconda-cloud": {},
  "kernelspec": {
   "display_name": "Python 3 (ipykernel)",
   "language": "python",
   "name": "python3"
  },
  "language_info": {
   "codemirror_mode": {
    "name": "ipython",
    "version": 3
   },
   "file_extension": ".py",
   "mimetype": "text/x-python",
   "name": "python",
   "nbconvert_exporter": "python",
   "pygments_lexer": "ipython3",
   "version": "3.9.7"
  }
 },
 "nbformat": 4,
 "nbformat_minor": 2
}
